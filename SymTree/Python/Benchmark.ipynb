{
 "cells": [
  {
   "cell_type": "markdown",
   "metadata": {},
   "source": [
    "# Benchmark for Symbolic Regression"
   ]
  },
  {
   "cell_type": "code",
   "execution_count": 3,
   "metadata": {
    "collapsed": true
   },
   "outputs": [],
   "source": [
    "import numpy as np"
   ]
  },
  {
   "cell_type": "markdown",
   "metadata": {},
   "source": [
    "## Artificial bee colony programming for symbolic regression"
   ]
  },
  {
   "cell_type": "markdown",
   "metadata": {},
   "source": [
    "1-D: 20 samples\n",
    "\n",
    "{2,3}-D: 100 samples\n",
    "\n",
    "Non-terminals: +, -, *, /, sin, cos, exp, log\n",
    "\n",
    "MAE\n",
    "\n",
    "$$\n",
    "F_1 = x^3 + x^2 + x, x \\in [-1,1] \\\\\n",
    "F_2 = x^4 + x^3 + x^2 + x, x \\in [-1,1] \\\\\n",
    "F_3 = x^5 + x^4 + x^3 + x^2 + x, x \\in [-1,1] \\\\\n",
    "F_4 = x^6 + x^5 + x^4 + x^3 + x^2 + x, x \\in [-1,1] \\\\\n",
    "F_5 = sin(x^2)cos(x) - 1, x \\in [-1,1] \\\\\n",
    "F_6 = sin(x) + sin(x + x^2), x \\in [-1,1] \\\\\n",
    "F_7 = log(x+1) + log(x^2+1), x \\in [0,2] \\\\\n",
    "F_8 = \\sqrt{x}, x \\in [0,4] \\\\\n",
    "F_9 = sin(x) + sin(y^2), x, y \\in [-1,1] \\\\\n",
    "F_{10} = 2sin(x)cos(y), x, y \\in [-1,1] \\\\\n",
    "F_{11} = F_2 \\\\\n",
    "F_{12} = sin(x) + x^2 + 1, x \\in [-1,1] \\\\\n",
    "F_{13} = sin(x^3 + x), x \\in [-1,1] \\\\\n",
    "F_{14} = \\frac{30xz}{(x-10)y^2}, x, z \\in [-1,1], y \\in [1,2] \\\\\n",
    "F_{15} = \\frac{x^4 + x^3 + y^2}{2-y}, x, y \\in [-3, 3] \\\\\n",
    "F_{16} = x^y, x, y \\in [0,1]\n",
    "$$\n",
    "\n",
    "---\n"
   ]
  },
  {
   "cell_type": "code",
   "execution_count": 4,
   "metadata": {
    "collapsed": false
   },
   "outputs": [],
   "source": [
    "#1-D: 20 samples\n",
    "#{2,3}-D: 100 samples\n",
    "\n",
    "F = {}\n",
    "F[1] = lambda x: x**3 + x**2  + x\n",
    "F[2] = lambda x: x**4 + x**3 + x**2  + x\n",
    "F[3] = lambda x: x**5 + x**4 + x**3 + x**2  + x\n",
    "F[4] = lambda x: x**6 + x**5 + x**4 + x**3 + x**2  + x\n",
    "F[5] = lambda x: np.sin(x**2)*np.cos(x) - 1\n",
    "F[6] = lambda x: np.sin(x) + np.sin(x**2 + x)\n",
    "F[7] = lambda x: np.log(x+1) + np.log(x**2 + 1)\n",
    "F[8] = lambda x: np.sqrt(x)\n",
    "F[9] = lambda X: np.sin(X[:,0]) + np.sin(X[:,1]**2)\n",
    "F[10] = lambda X: 2*np.sin(X[:,0])*np.cos(X[:,1])\n",
    "F[12] = lambda x: np.sin(x) + x**2 + 1\n",
    "F[13] = lambda x: np.sin(x**3 + x)\n",
    "F[14] = lambda X: 30*X[:,0]*X[:,2]/((X[:,0]-10)*X[:,1]**2)\n",
    "F[15] = lambda X: (X[:,0]**4 + X[:,0]**3 + X[:,1]**2)/(2 - X[:,1])\n",
    "F[16] = lambda X: X[:,0]**X[:,1]\n",
    "\n",
    "info = {}\n",
    "\n",
    "info['Bee'] = {}\n",
    "Names = ['F{}'.format(x) for x in sorted(F.keys())]\n",
    "Terms = [3,4,5,6,2,2,2,1,2,1,3,1,1,3,1]\n",
    "info['Bee']['functions'] = dict(zip(Names,Terms))\n",
    "info['Bee']['has_test'] = False\n",
    "\n",
    "dim = np.ones(17, dtype=int)\n",
    "dim[9:11] = 2\n",
    "dim[14] = 3\n",
    "dim[15:] = 2\n",
    "\n",
    "domain = [(-1,1)]*17\n",
    "domain[7:9] = [(0,2),(0,4)]\n",
    "domain[15:] = [(-3,3), (0,1)]\n",
    "\n",
    "for n, f in F.items():\n",
    "    low, hi = domain[n]\n",
    "    d = dim[n]\n",
    "    samples = 20 if d == 1 else 100\n",
    "    \n",
    "    X = np.random.uniform(low, hi, (samples, d))\n",
    "    if n == 14:\n",
    "        X[:,1] = np.random.uniform(1,2, samples)\n",
    "    Y = np.atleast_2d(f(X))\n",
    "    if Y.shape[0] < Y.shape[1]:\n",
    "        Y = Y.T\n",
    "        \n",
    "    Z = np.hstack((X,Y))\n",
    "    np.savetxt('Benchmark/Bee/F'+str(n)+'.csv', Z)"
   ]
  },
  {
   "cell_type": "markdown",
   "metadata": {},
   "source": [
    "# neat Genetic Programming: Controlling bloat naturally"
   ]
  },
  {
   "cell_type": "markdown",
   "metadata": {},
   "source": [
    "1-D: 20 samples\n",
    "\n",
    "2-D: 100 samples\n",
    "\n",
    "Non-terminals: must look at references\n",
    "\n",
    "RMSE\n",
    "\n",
    "$$\n",
    "F_1 = x^4 + x^3 + x^2 + x, x \\in [-1,1] \\\\\n",
    "F_2 = x^5 + x^4 + x^3 + x^2 + x, x \\in [-1,1] \\\\\n",
    "F_3 = sin(x^2)cos(x) - 1, x \\in [-1,1] \\\\\n",
    "F_4 = log(x+1) + log(x^2+1), x \\in [0,2] \\\\\n",
    "F_{5} = 2sin(x)cos(y), x, y \\in [-1,1] \\\\\n",
    "F_{6} = \\sum_{i=0..x}{\\frac{1}{i}}, x \\in range(1,50)\\\\\n",
    "F_{7} = \\sum_{i=0..x}{\\frac{1}{i}}, x \\in range(1,120) \\\\\n",
    "F_{8} = 2 - 2.1cos(9.8x)sin(1.3w), x, w \\in [-50,50] \\\\\n",
    "F_{9} = \\frac{e^{-(x-1)^2}}{1.2 + (y-2.5)^2}, x, y \\in [0.3,4] \\\\\n",
    "F_{10} = \\frac{1}{1+x^-4} + \\frac{1}{1+y^-4}, x, y \\in range(-5,5,0.4) \n",
    "$$"
   ]
  },
  {
   "cell_type": "code",
   "execution_count": 5,
   "metadata": {
    "collapsed": false
   },
   "outputs": [],
   "source": [
    "F = {}\n",
    "F[1] = lambda x: x**4 + x**3 + x**2  + x\n",
    "F[2] = lambda x: x**5 + x**4 + x**3 + x**2  + x\n",
    "F[3] = lambda x: np.sin(x**2)*np.cos(x) - 1\n",
    "F[4] = lambda x: np.log(x+1) + np.log(x**2 + 1)\n",
    "\n",
    "F[5] = lambda X: 2*np.sin(X[:,0])*np.cos(X[:,1])\n",
    "\n",
    "F[6] = lambda X: np.array([np.sum(1./np.arange(1,x+1)) for x in X])\n",
    "F[7] = lambda X: np.array([np.sum(1./np.arange(1,x+1)) for x in X])\n",
    "\n",
    "F[8] = lambda X: 2 - 2.1*np.cos(9.8*X[:,0])*np.sin(1.3*X[:,1])\n",
    "F[9] = lambda X: np.exp(-(X[:,0]-1)**2)/(1.2 + (X[:,1] - 2.5)**2)\n",
    "F[10] = lambda X: (1/(1+X[:,0]**-4) + 1/(1 + X[:,1]**-4))\n",
    "\n",
    "info['Neat'] = {}\n",
    "Names = ['F{}'.format(x) for x in range(1,11)]\n",
    "Terms = [4,5,2,2,1,1,1,2,1,2]\n",
    "info['Neat']['functions'] = dict(zip(Names,Terms))\n",
    "info['Neat']['has_test'] = False\n",
    "\n",
    "\n",
    "dim = np.ones(11, dtype=int)\n",
    "dim[5:] = 2\n",
    "dim[6:8] = 1\n",
    "\n",
    "domain = [(-1,1)]*11\n",
    "domain[4] = (0,2)\n",
    "domain[6] = (1,50)\n",
    "domain[7] = (1,120)\n",
    "domain[8] = (-50,50)\n",
    "domain[9] = (0.3,4)\n",
    "domain[10] = (-5,5)\n",
    "\n",
    "for n, f in F.items():\n",
    "    low, hi = domain[n]\n",
    "    d = dim[n]\n",
    "    samples = 20 if d == 1 else 100\n",
    "    \n",
    "    X = np.random.uniform(low, hi, (samples, d))\n",
    "    Y = np.atleast_2d(f(X))\n",
    "    if Y.shape[0] < Y.shape[1]:\n",
    "        Y = Y.T\n",
    "        \n",
    "    Z = np.hstack((X,Y))\n",
    "    np.savetxt('Benchmark/Neat/F'+str(n)+'.csv', Z)"
   ]
  },
  {
   "cell_type": "markdown",
   "metadata": {},
   "source": [
    "# GP made faster with semantic surrogate modelling"
   ]
  },
  {
   "cell_type": "markdown",
   "metadata": {},
   "source": [
    "200 samples $\\in [-5, 5]$\n",
    "\n",
    "500 samples for testing\n",
    "\n",
    "Non-terminals: +, -, *, /, pow, sqrt\n",
    "\n",
    "MAE\n",
    "\n",
    "$$\n",
    "F_{1} = \\frac{e^{-(x_1 - 1)^2}}{1.2 + (x_2 - 2.5)^2} \\\\\n",
    "F_{2} = \\frac{10}{5 + \\sum_{i=1..5}{(x_i-3)^2}} \\\\\n",
    "F_{3} = 6sin(x_1)cos(x_2) \\\\\n",
    "F_{4} = x_1x_2x_3x_4x_5 \\\\\n",
    "F_{5} = 32 - 3\\frac{\\tan(x_1)}{\\tan(x_2)}\\frac{\\tan{x_3}}{\\tan{x_4}}\n",
    "$$\n"
   ]
  },
  {
   "cell_type": "code",
   "execution_count": 7,
   "metadata": {
    "collapsed": false
   },
   "outputs": [
    {
     "name": "stdout",
     "output_type": "stream",
     "text": [
      "(700, 5) (700, 1)\n",
      "(700, 5) (700, 1)\n",
      "(700, 5) (700, 1)\n",
      "(700, 5) (700, 1)\n",
      "(700, 5) (700, 1)\n"
     ]
    }
   ],
   "source": [
    "F = {}\n",
    "F[1] = lambda X: np.exp(-(X[:,0]-1)**2)/(1.2 + (X[:,1]-2.5)**2)\n",
    "F[2] = lambda X: 10/(5 + np.sum((X-3)**2,axis=1))\n",
    "F[3] = lambda X: 6*np.sin(X[:,0])*np.cos(X[:,1])\n",
    "F[4] = lambda X: X[:,0]*X[:,1]*X[:,2]*X[:,3]*X[:,4]\n",
    "F[5] = lambda X: 32 - 3*np.tan(X[:,0])*np.tan(X[:,2])/(np.tan(X[:,1])*np.tan(X[:,3])) + X[:,4]\n",
    "\n",
    "info['Surrogate1'] = {}\n",
    "Names = ['F{}'.format(x) for x in range(1,6)]\n",
    "Terms = [1, 1, 1, 1, 3]\n",
    "info['Surrogate1']['functions'] = dict(zip(Names,Terms))\n",
    "info['Surrogate1']['has_test'] = True\n",
    "\n",
    "dim = np.ones(6, dtype=int)*5\n",
    "\n",
    "domain = [(-5,5)]*6\n",
    "\n",
    "for n, f in F.items():\n",
    "    low, hi = domain[n]\n",
    "    d = dim[n]    \n",
    "    \n",
    "    X = np.random.uniform(low, hi, (700, d))\n",
    "    Y = np.atleast_2d(f(X))\n",
    "    if Y.shape[0] < Y.shape[1]:\n",
    "        Y = Y.T\n",
    "        \n",
    "    print(X.shape, Y.shape)\n",
    "    Z = np.hstack((X,Y))\n",
    "    np.savetxt('Benchmark/Surrogate1/F'+str(n)+'_train.csv', Z[:200,:])\n",
    "    np.savetxt('Benchmark/Surrogate1/F'+str(n)+'_test.csv', Z[200:,:])"
   ]
  },
  {
   "cell_type": "markdown",
   "metadata": {},
   "source": [
    "# Surrogate Genetic Programming: A semantic aware evolutionary search"
   ]
  },
  {
   "cell_type": "markdown",
   "metadata": {},
   "source": [
    "100 samples $\\in [-5, 5]$\n",
    "\n",
    "50 samples $\\in [-10, 10]$ for testing\n",
    "\n",
    "Non-terminals: +, -, *, /\n",
    "\n",
    "MAE\n",
    "\n",
    "$$\n",
    "F_1 = x^3 + x^2 + 5x \\\\\n",
    "F_2 = \\frac{x^6}{x^3 + x^2 + 1} \\\\\n",
    "F_3 = \\frac{x}{1 - \\log(x^2 + x + 1)} \\\\\n",
    "F_4 = \\sin(x^2) \\\\\n",
    "F_5 = 5\\sqrt(|x|)\\\\\n",
    "F_6 = 100 + \\log(x^2) + 5\\sqrt(|x|)\\\\\n",
    "F_7 = 2\\tan(x)\\cos(x)\\\\\n",
    "$$"
   ]
  },
  {
   "cell_type": "code",
   "execution_count": 12,
   "metadata": {
    "collapsed": false
   },
   "outputs": [
    {
     "name": "stdout",
     "output_type": "stream",
     "text": [
      "(100, 2)\n",
      "(100, 2)\n",
      "(100, 2)\n",
      "(100, 2)\n",
      "(100, 2)\n",
      "(100, 2)\n",
      "(100, 2)\n"
     ]
    }
   ],
   "source": [
    "F = {}\n",
    "F[1] = lambda x: x**3 + x**2 + 5*x\n",
    "F[2] = lambda x: (x**6)/(x**3 + x**2 + 1)\n",
    "F[3] = lambda x: x/(1 - np.log(x**2 + x + 1))\n",
    "F[4] = lambda x: np.sin(x**2)\n",
    "F[5] = lambda x: np.sqrt(np.abs(x))*5\n",
    "F[6] = lambda x: 100 + np.log(x**2) + 5*np.sqrt(np.abs(x))\n",
    "F[7] = lambda x: 2*np.tan(x)*np.cos(x)\n",
    "\n",
    "info['Surrogate2'] = {}\n",
    "Names = ['F{}'.format(x) for x in range(1,8)]\n",
    "Terms = [3, 1, 1, 1, 1, 3, 1]\n",
    "info['Surrogate2']['functions'] = dict(zip(Names,Terms))\n",
    "info['Surrogate2']['has_test'] = True\n",
    "\n",
    "import json\n",
    "fw=open('Benchmark/data.info', 'w')\n",
    "json.dump(info, fw)\n",
    "fw.close()\n",
    "\n",
    "dim = np.ones(8, dtype=int)\n",
    "\n",
    "for n, f in F.items():\n",
    "    \n",
    "    X = np.random.uniform(-5, 5, (100,))\n",
    "    Y = f(X)\n",
    "    Z = np.vstack((X,Y)).T\n",
    "    print(Z.shape)\n",
    "    np.savetxt('Benchmark/Surrogate2/F'+str(n)+'_train.csv', Z)\n",
    "\n",
    "    X = np.random.uniform(-10, 10, (50,))\n",
    "    Y = f(X)\n",
    "    Z = np.vstack((X,Y)).T\n",
    "    np.savetxt('Benchmark/Surrogate2/F'+str(n)+'_test.csv', Z)\n"
   ]
  },
  {
   "cell_type": "markdown",
   "metadata": {},
   "source": [
    "# Improving Genetic Programming Based Symbolic Regression Using Deterministic Machine Learning"
   ]
  },
  {
   "cell_type": "markdown",
   "metadata": {},
   "source": [
    "2500 samples $\\in [0, 1]$\n",
    "\n",
    "1250 samples $\\in [0, 1]$ for testing\n",
    "\n",
    "Non-terminals: +, -, *, /\n",
    "\n",
    "RMSE\n",
    "\n",
    "csv"
   ]
  },
  {
   "cell_type": "code",
   "execution_count": 9,
   "metadata": {
    "collapsed": false
   },
   "outputs": [
    {
     "data": {
      "text/plain": [
       "{'Bee': {'functions': {'F1': 3,\n",
       "   'F10': 1,\n",
       "   'F12': 3,\n",
       "   'F13': 1,\n",
       "   'F14': 1,\n",
       "   'F15': 3,\n",
       "   'F16': 1,\n",
       "   'F2': 4,\n",
       "   'F3': 5,\n",
       "   'F4': 6,\n",
       "   'F5': 2,\n",
       "   'F6': 2,\n",
       "   'F7': 2,\n",
       "   'F8': 1,\n",
       "   'F9': 2},\n",
       "  'has_test': False},\n",
       " 'Neat': {'functions': {'F1': 4,\n",
       "   'F10': 2,\n",
       "   'F2': 5,\n",
       "   'F3': 2,\n",
       "   'F4': 2,\n",
       "   'F5': 1,\n",
       "   'F6': 1,\n",
       "   'F7': 1,\n",
       "   'F8': 2,\n",
       "   'F9': 1},\n",
       "  'has_test': False},\n",
       " 'Surrogate1': {'functions': {'F1': 1, 'F2': 1, 'F3': 1, 'F4': 1, 'F5': 3},\n",
       "  'has_test': True},\n",
       " 'Surrogate2': {'functions': {'F1': 3,\n",
       "   'F2': 1,\n",
       "   'F3': 1,\n",
       "   'F4': 1,\n",
       "   'F5': 1,\n",
       "   'F6': 3,\n",
       "   'F7': 1},\n",
       "  'has_test': True}}"
      ]
     },
     "execution_count": 9,
     "metadata": {},
     "output_type": "execute_result"
    }
   ],
   "source": [
    "info"
   ]
  },
  {
   "cell_type": "code",
   "execution_count": 37,
   "metadata": {
    "collapsed": false
   },
   "outputs": [],
   "source": [
    "import numpy as np\n",
    "X = np.random.uniform(-1,1, (100,1))\n",
    "y = np.sin(10*X)\n",
    "w = 3."
   ]
  },
  {
   "cell_type": "code",
   "execution_count": 66,
   "metadata": {
    "collapsed": false
   },
   "outputs": [
    {
     "name": "stdout",
     "output_type": "stream",
     "text": [
      "2.55706235747 0.986585883816 1.82492909673e-16\n"
     ]
    }
   ],
   "source": [
    "for i in range(100):\n",
    "    delta = ((y - np.sin(w*X))*X*np.cos(w*X)).mean()\n",
    "    w = w + delta\n",
    "print(w, ((y-np.sin(w*X))**2).mean(), delta)"
   ]
  },
  {
   "cell_type": "code",
   "execution_count": 84,
   "metadata": {
    "collapsed": false
   },
   "outputs": [
    {
     "data": {
      "text/plain": [
       "     fun: 6.0926406473121375e-19\n",
       "    nfev: 14\n",
       "     nit: 13\n",
       " success: True\n",
       "       x: 9.9999999991763762"
      ]
     },
     "execution_count": 84,
     "metadata": {},
     "output_type": "execute_result"
    }
   ],
   "source": [
    "import scipy.optimize as opt\n",
    "\n",
    "ferror = lambda w: np.square(y - np.sin(w*X)).max()\n",
    "opt.minimize_scalar(ferror, bracket=[2, 12])"
   ]
  },
  {
   "cell_type": "code",
   "execution_count": null,
   "metadata": {
    "collapsed": true
   },
   "outputs": [],
   "source": []
  }
 ],
 "metadata": {
  "kernelspec": {
   "display_name": "Python 3",
   "language": "python",
   "name": "python3"
  },
  "language_info": {
   "codemirror_mode": {
    "name": "ipython",
    "version": 3
   },
   "file_extension": ".py",
   "mimetype": "text/x-python",
   "name": "python",
   "nbconvert_exporter": "python",
   "pygments_lexer": "ipython3",
   "version": "3.6.0"
  }
 },
 "nbformat": 4,
 "nbformat_minor": 0
}
